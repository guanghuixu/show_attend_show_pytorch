{
 "cells": [
  {
   "cell_type": "code",
   "execution_count": 8,
   "metadata": {
    "collapsed": true
   },
   "outputs": [],
   "source": [
    "from core.vggnet import Vgg19\n",
    "from resize import resize_image\n",
    "import numpy as np\n",
    "from PIL import Image\n",
    "import os\n",
    "from scipy import ndimage\n",
    "import tensorflow as tf"
   ]
  },
  {
   "cell_type": "code",
   "execution_count": 6,
   "metadata": {
    "collapsed": true
   },
   "outputs": [],
   "source": [
    "with open('./demo.jpg','r+b') as f:\n",
    "    with Image.open(f) as image:\n",
    "        demo_img = resize_image(image)\n",
    "        demo_img.save('./demo_img.jpg', demo_img.format)"
   ]
  },
  {
   "cell_type": "code",
   "execution_count": 3,
   "metadata": {
    "collapsed": true
   },
   "outputs": [],
   "source": [
    "vgg_model_path = './data/imagenet-vgg-verydeep-19.mat'\n",
    "vggnet = Vgg19(vgg_model_path)\n",
    "vggnet.build()"
   ]
  },
  {
   "cell_type": "code",
   "execution_count": 19,
   "metadata": {
    "collapsed": true
   },
   "outputs": [],
   "source": [
    "demo_img = np.array(ndimage.imread('./demo_img.jpg',mode='RGB')).astype(np.float32)\n",
    "demo_img = demo_img.reshape([-1,224,224,3])"
   ]
  },
  {
   "cell_type": "code",
   "execution_count": 20,
   "metadata": {
    "collapsed": true
   },
   "outputs": [],
   "source": [
    "with tf.Session() as sess:\n",
    "    tf.global_variables_initializer().run()\n",
    "    feats = sess.run(vggnet.features, feed_dict={vggnet.images: demo_img})"
   ]
  },
  {
   "cell_type": "code",
   "execution_count": 22,
   "metadata": {},
   "outputs": [
    {
     "name": "stdout",
     "output_type": "stream",
     "text": [
      "[[[ -71.97225189  -88.106987     37.45117188 ...,  -30.50019836\n",
      "     39.8382225   -61.13659668]\n",
      "  [ -32.36460495 -152.96266174  -33.46395874 ...,  -65.77544403\n",
      "     29.87078285   -7.74626017]\n",
      "  [ -49.21377182 -122.63179779  -53.11214066 ...,  -70.76000214\n",
      "     74.02006531   -9.75680828]\n",
      "  ..., \n",
      "  [ -50.62343979  218.49125671 -137.4133606  ...,   85.646492    -49.22304153\n",
      "    -19.87163353]\n",
      "  [-119.31838989   88.969841    -94.56332397 ...,  -11.07960892\n",
      "    -43.9320488   -46.98217773]\n",
      "  [ -43.64060593  -38.52875519  -80.9709549  ...,  -21.6572876\n",
      "     13.76499748    3.62471128]]]\n"
     ]
    }
   ],
   "source": [
    "print feats.shape"
   ]
  },
  {
   "cell_type": "code",
   "execution_count": 2,
   "metadata": {},
   "outputs": [
    {
     "name": "stderr",
     "output_type": "stream",
     "text": [
      "usage: ipykernel_launcher.py [-h] [--data DATA] [--save SAVE]\n",
      "                             [--val_samples VAL_SAMPLES]\n",
      "                             [--test_samples TEST_SAMPLES]\n",
      "                             [--loss_log LOSS_LOG] [--batch_size N]\n",
      "                             [--batch_norm N] [--epochs EPOCHS]\n",
      "                             [--embedding_size EMBEDDING_SIZE] [--time_step N]\n",
      "                             [--seed SEED] [--hidden_dim HIDDEN_DIM]\n",
      "                             [--nlayers NLAYERS] [--lr LR] [--clip CLIP]\n",
      "                             [--dropout DROPOUT] [--demo_feat DEMO_FEAT]\n",
      "ipykernel_launcher.py: error: unrecognized arguments: -f /run/user/1021/jupyter/kernel-84ec4a3b-a80d-4064-8def-ced069cd0f81.json\n"
     ]
    },
    {
     "ename": "SystemExit",
     "evalue": "2",
     "traceback": [
      "An exception has occurred, use %tb to see the full traceback.\n",
      "\u001b[0;31mSystemExit\u001b[0m\u001b[0;31m:\u001b[0m 2\n"
     ],
     "output_type": "error"
    },
    {
     "name": "stderr",
     "output_type": "stream",
     "text": [
      "/usr/local/anaconda2/lib/python2.7/site-packages/IPython/core/interactiveshell.py:2890: UserWarning: To exit: use 'exit', 'quit', or Ctrl-D.\n",
      "  warn(\"To exit: use 'exit', 'quit', or Ctrl-D.\", stacklevel=1)\n"
     ]
    }
   ],
   "source": [
    "import main"
   ]
  },
  {
   "cell_type": "code",
   "execution_count": 1,
   "metadata": {},
   "outputs": [
    {
     "ename": "NameError",
     "evalue": "name 'model' is not defined",
     "traceback": [
      "\u001b[0;31m---------------------------------------------------------------------------\u001b[0m",
      "\u001b[0;31mNameError\u001b[0m                                 Traceback (most recent call last)",
      "\u001b[0;32m<ipython-input-1-09621453ae61>\u001b[0m in \u001b[0;36m<module>\u001b[0;34m()\u001b[0m\n\u001b[0;32m----> 1\u001b[0;31m \u001b[0;32mprint\u001b[0m \u001b[0mmodel\u001b[0m\u001b[0;34m\u001b[0m\u001b[0m\n\u001b[0m\u001b[1;32m      2\u001b[0m \u001b[0mmodel\u001b[0m\u001b[0;34m.\u001b[0m\u001b[0mtest\u001b[0m\u001b[0;34m(\u001b[0m\u001b[0msave_sampled_captions\u001b[0m\u001b[0;34m=\u001b[0m\u001b[0mFalse\u001b[0m\u001b[0;34m,\u001b[0m\u001b[0mevaluate_score\u001b[0m\u001b[0;34m=\u001b[0m\u001b[0mFalse\u001b[0m\u001b[0;34m,\u001b[0m\u001b[0mgenerate_demo_sample\u001b[0m\u001b[0;34m=\u001b[0m\u001b[0mTrue\u001b[0m\u001b[0;34m)\u001b[0m\u001b[0;34m\u001b[0m\u001b[0m\n",
      "\u001b[0;31mNameError\u001b[0m: name 'model' is not defined"
     ],
     "output_type": "error"
    }
   ],
   "source": [
    "main.args.demo_feat = feats\n",
    "main.model.test(save_sampled_captions=False,evaluate_score=False,generate_demo_sample=True)"
   ]
  }
 ],
 "metadata": {
  "kernelspec": {
   "display_name": "Python 2",
   "language": "python",
   "name": "python2"
  },
  "language_info": {
   "codemirror_mode": {
    "name": "ipython",
    "version": 2
   },
   "file_extension": ".py",
   "mimetype": "text/x-python",
   "name": "python",
   "nbconvert_exporter": "python",
   "pygments_lexer": "ipython2",
   "version": "2.7.14"
  }
 },
 "nbformat": 4,
 "nbformat_minor": 2
}
